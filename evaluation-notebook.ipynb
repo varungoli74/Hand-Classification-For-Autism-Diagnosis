{
 "cells": [
  {
   "cell_type": "code",
   "execution_count": null,
   "metadata": {},
   "outputs": [],
   "source": [
    "import os"
   ]
  },
  {
   "cell_type": "code",
   "execution_count": 2,
   "metadata": {},
   "outputs": [],
   "source": [
    "import pickle\n",
    "import numpy as np, matplotlib.pyplot as plt\n",
    "\n",
    "with open(\"mobile_net_hundred_seeds_results.pickle\", 'rb') as f: \n",
    " (META_RESULT_MATRIX, AVERAGE_AUROCS, AVERAGE_TPRS) = pickle.load(f)"
   ]
  },
  {
   "cell_type": "code",
   "execution_count": 3,
   "metadata": {},
   "outputs": [],
   "source": [
    "def all_info_for_approach(META_RESULT_MATRIX, AVERAGE_AUROCS, AVERAGE_TPRS, approach):\n",
    "    \n",
    "    # plot the ROC curve \n",
    "\n",
    "    average_tprs = np.mean(np.array(AVERAGE_TPRS), axis = 0)\n",
    "    meta_avg_tpr = np.mean(average_tprs, axis = 0) \n",
    "    base_fpr = np.linspace(0, 1, 101) \n",
    "    \n",
    "    plt.plot(base_fpr, average_tprs, label = \"average of runs\")\n",
    "\n",
    "    std_tpr = np.std(AVERAGE_TPRS, axis=0)\n",
    "    tprs_upper = np.minimum(np.mean(AVERAGE_TPRS,axis=0) + std_tpr, 1)\n",
    "    tprs_lower = np.maximum(np.mean(AVERAGE_TPRS,axis=0) - std_tpr, 0)\n",
    "    plt.fill_between(base_fpr, tprs_lower, tprs_upper, color='grey', alpha=.3, label=r'$\\pm$ 1 std. dev.')\n",
    "    plt.xlim([0.0, 1.0])\n",
    "    plt.ylim([0.0, 1.05])\n",
    "    plt.plot([0, 1], [0, 1], color='navy', linestyle='--', label = \"chance\")\n",
    "    plt.xlabel('False Positive Rate')\n",
    "    plt.ylabel('True Positive Rate')\n",
    "    plt.title(f'{approach} Average ROC Curve')\n",
    "    plt.legend(loc=\"lower right\")\n",
    "\n",
    "    plt.savefig(f\"seed_plots/{approach} ROC Curve\")\n",
    "\n",
    "    plt.show()\n",
    "\n",
    "\n",
    "    # receive evaluation for basically everything\n",
    "    METRICS = []\n",
    "    for fold_results in np.array_split(META_RESULT_MATRIX, 100):\n",
    "        \"\"\"cluster based on cross validtion run\"\"\"\n",
    "        METRICS.append(np.mean(fold_results, axis = 0)) \n",
    "\n",
    "    METRICS = np.around(np.array(METRICS), 3)\n",
    "    print(f\"training accuracy : {np.mean(METRICS[:, 0])} +/- {np.std(METRICS[:, 0])}\")\n",
    "    print(f\"training precision : {np.mean(METRICS[:, 1])} +/- {np.std(METRICS[:, 1])}\")\n",
    "    print(f\"training recall : {np.mean(METRICS[:, 2])} +/- {np.std(METRICS[:, 2])}\")\n",
    "    print(f\"training f1 : {np.mean(METRICS[:, 3])} +/- {np.std(METRICS[:, 3])}\")\n",
    "    print(f\"validation accuracy : {np.mean(METRICS[:, 4])} +/- {np.std(METRICS[:, 4])}\")\n",
    "    print(f\"validation precision : {np.mean(METRICS[:, 5])} +/- {np.std(METRICS[:, 5])}\")\n",
    "    print(f\"validation recall : {np.mean(METRICS[:, 6])} +/- {np.std(METRICS[:, 6])}\")\n",
    "    print(f\"validation f1 : {np.mean(METRICS[:, 7])} +/- {np.std(METRICS[:, 7])}\")\n",
    "    print(f\"average auroc : {np.mean(AVERAGE_AUROCS)} +/- {np.std(AVERAGE_AUROCS)}\")"
   ]
  },
  {
   "cell_type": "code",
   "execution_count": 4,
   "metadata": {},
   "outputs": [
    {
     "data": {
      "text/plain": [
       "(500, 8)"
      ]
     },
     "execution_count": 4,
     "metadata": {},
     "output_type": "execute_result"
    }
   ],
   "source": [
    "np.array(META_RESULT_MATRIX).shape"
   ]
  },
  {
   "cell_type": "code",
   "execution_count": 5,
   "metadata": {},
   "outputs": [
    {
     "data": {
      "image/png": "[encoded data removed]",
      "text/plain": [
       "<Figure size 432x288 with 1 Axes>"
      ]
     },
     "metadata": {
      "needs_background": "light"
     },
     "output_type": "display_data"
    },
    {
     "name": "stdout",
     "output_type": "stream",
     "text": [
      "training accuracy : 0.9773099999999999 +/- 0.009105707001655618\n",
      "training precision : 0.9953799999999999 +/- 0.004424432166956573\n",
      "training recall : 0.9590499999999998 +/- 0.01706890447568325\n",
      "training f1 : 0.9764800000000001 +/- 0.009453549597902376\n",
      "validation accuracy : 0.8497 +/- 0.031478722972827215\n",
      "validation precision : 0.8957200000000001 +/- 0.042618793976366816\n",
      "validation recall : 0.8037999999999998 +/- 0.06004631545732011\n",
      "validation f1 : 0.8391 +/- 0.03658893275295139\n",
      "average auroc : 0.8497 +/- 0.03147872297282722\n"
     ]
    }
   ],
   "source": [
    "all_info_for_approach(META_RESULT_MATRIX, AVERAGE_AUROCS, AVERAGE_TPRS, approach = \"Mobile Net\")"
   ]
  },
  {
   "cell_type": "markdown",
   "metadata": {},
   "source": [
    "# lets get the data for the mobile net comparison"
   ]
  },
  {
   "cell_type": "code",
   "execution_count": 6,
   "metadata": {},
   "outputs": [],
   "source": [
    "import pickle \n",
    "import numpy as np\n",
    "import os \n",
    "\n",
    "META_RESULT_MATRIX = []\n",
    "for file_names in os.listdir(\"performances/\"): \n",
    "    if not file_names.endswith(\".txt\"): continue\n",
    "    with open(f\"performances/{file_names}\") as f: \n",
    "        row = []\n",
    "        for line in f.readlines():\n",
    "            row.append(float(line[line.index(':')+1:].strip()))\n",
    "        META_RESULT_MATRIX.append(row)\n",
    "    "
   ]
  },
  {
   "cell_type": "code",
   "execution_count": 7,
   "metadata": {},
   "outputs": [],
   "source": [
    "AVERAGE_AUROCS = np.array(META_RESULT_MATRIX)[:, 8]\n",
    "META_RESULT_MATRIX = np.array(META_RESULT_MATRIX)[:, :8]\n",
    "AVERAGE_AUROCS = np.array([np.mean(five_aurocs) for five_aurocs in np.array_split(AVERAGE_AUROCS, 100)])"
   ]
  },
  {
   "cell_type": "code",
   "execution_count": 8,
   "metadata": {},
   "outputs": [],
   "source": [
    "# last thing: get the average tprs \n",
    "TPRS = []\n",
    "for file_names in os.listdir(\"tpr_files/\"): \n",
    "    if not file_names.endswith(\".pickle\"): continue\n",
    "    with open(f\"tpr_files/\" + file_names, \"rb\") as f :\n",
    "        TPRS.append(pickle.load(f))\n"
   ]
  },
  {
   "cell_type": "code",
   "execution_count": 9,
   "metadata": {},
   "outputs": [],
   "source": [
    "TPRS = np.array(TPRS)\n",
    "TPRS = np.array([np.mean(five_tprs, axis = 0) for five_tprs in np.array_split(TPRS, 100)])"
   ]
  },
  {
   "cell_type": "code",
   "execution_count": 10,
   "metadata": {},
   "outputs": [],
   "source": [
    "with open(\"mobile_net_hundred_seeds_results.pickle\", 'wb') as f: \n",
    "    pickle.dump((META_RESULT_MATRIX, AVERAGE_AUROCS, TPRS), f)"
   ]
  },
  {
   "cell_type": "markdown",
   "metadata": {},
   "source": [
    "# lets run p-value tests on all (validation) results for all metrics"
   ]
  },
  {
   "cell_type": "code",
   "execution_count": 11,
   "metadata": {},
   "outputs": [],
   "source": [
    "import pickle, numpy as np, os\n",
    "with open(\"mean_landmark_hundred_seeds_results\", 'rb') as f: \n",
    " (MEAN_META_RESULT_MATRIX, AVERAGE_AUROCS, AVERAGE_TPRS) = pickle.load(f)\n"
   ]
  },
  {
   "cell_type": "code",
   "execution_count": 25,
   "metadata": {},
   "outputs": [],
   "source": [
    "with open(\"one_landmark_hundred_seeds_results\", 'rb') as f: \n",
    " (ONE_META_RESULT_MATRIX, AVERAGE_AUROCS, AVERAGE_TPRS) = pickle.load(f)\n",
    "\n",
    "with open(\"all_landmarks_hundred_seeds_results\", 'rb') as f: \n",
    " (ALL_META_RESULT_MATRIX, AVERAGE_AUROCS, AVERAGE_TPRS) = pickle.load(f)\n",
    "\n",
    "with open(\"six_landmarks_hundred_seeds_results\", 'rb') as f: \n",
    " (SIX_META_RESULT_MATRIX, AVERAGE_AUROCS, AVERAGE_TPRS) = pickle.load(f)\n",
    "\n",
    " \n",
    "with open(\"mobile_net_hundred_seeds_results.pickle\", 'rb') as f: \n",
    "    (MB_META_RESULT_MATRIX, AVERAGE_AUROCS, TPRS) = pickle.load(f)"
   ]
  },
  {
   "cell_type": "code",
   "execution_count": 27,
   "metadata": {},
   "outputs": [
    {
     "data": {
      "text/plain": [
       "0.03147872297282722"
      ]
     },
     "execution_count": 27,
     "metadata": {},
     "output_type": "execute_result"
    }
   ],
   "source": [
    "np.std(AVERAGE_AUROCS, axis =0 )"
   ]
  },
  {
   "cell_type": "code",
   "execution_count": 15,
   "metadata": {},
   "outputs": [],
   "source": [
    "def boil(matrix): \n",
    "    matrix = np.array_split(matrix, 100)\n",
    "    return np.array([np.mean(fold_results, axis = 0) for fold_results in matrix])"
   ]
  },
  {
   "cell_type": "code",
   "execution_count": 16,
   "metadata": {},
   "outputs": [],
   "source": [
    "MB_META_RESULT_MATRIX, MEAN_META_RESULT_MATRIX, ONE_META_RESULT_MATRIX, ALL_META_RESULT_MATRIX, SIX_META_RESULT_MATRIX = [np.array(mat) for mat in [MB_META_RESULT_MATRIX, MEAN_META_RESULT_MATRIX, ONE_META_RESULT_MATRIX, ALL_META_RESULT_MATRIX, SIX_META_RESULT_MATRIX]]\n",
    "MB_META_RESULT_MATRIX, MEAN_META_RESULT_MATRIX, ONE_META_RESULT_MATRIX, ALL_META_RESULT_MATRIX, SIX_META_RESULT_MATRIX = list(map(boil, [MB_META_RESULT_MATRIX, MEAN_META_RESULT_MATRIX, ONE_META_RESULT_MATRIX, ALL_META_RESULT_MATRIX, SIX_META_RESULT_MATRIX]))"
   ]
  },
  {
   "cell_type": "code",
   "execution_count": 22,
   "metadata": {},
   "outputs": [],
   "source": [
    "approaches = ['mean', 'one', 'all', 'six', 'mobile net']\n",
    "metrics = list(map(lambda x : \"validation \" + x, [\"accuracy\", \"precision\", \"recall\", \"F1\"]))\n",
    "approach_matrix = {approach : matrix for approach, matrix in zip(approaches, [MEAN_META_RESULT_MATRIX, ONE_META_RESULT_MATRIX, ALL_META_RESULT_MATRIX, SIX_META_RESULT_MATRIX, MB_META_RESULT_MATRIX])}"
   ]
  },
  {
   "cell_type": "code",
   "execution_count": 23,
   "metadata": {},
   "outputs": [
    {
     "data": {
      "text/plain": [
       "['validation accuracy',\n",
       " 'validation precision',\n",
       " 'validation recall',\n",
       " 'validation F1']"
      ]
     },
     "execution_count": 23,
     "metadata": {},
     "output_type": "execute_result"
    }
   ],
   "source": [
    "metrics"
   ]
  },
  {
   "cell_type": "code",
   "execution_count": 24,
   "metadata": {},
   "outputs": [
    {
     "name": "stdout",
     "output_type": "stream",
     "text": [
      "mean vs one\n",
      "for validation accuracy : 0.6677298768921249, statistically significant : False\n",
      "for validation precision : 0.8498462215261376, statistically significant : False\n",
      "for validation recall : 0.41682879441214116, statistically significant : False\n",
      "for validation F1 : 0.4992904697063305, statistically significant : False\n",
      "\n",
      "\n",
      "mean vs all\n",
      "for validation accuracy : 5.538265534222322e-06, statistically significant : True\n",
      "for validation precision : 1.650578472857774e-05, statistically significant : True\n",
      "for validation recall : 0.15397328926548498, statistically significant : False\n",
      "for validation F1 : 0.0015635287494645547, statistically significant : True\n",
      "\n",
      "\n",
      "mean vs six\n",
      "for validation accuracy : 1.3820978126569102e-12, statistically significant : True\n",
      "for validation precision : 4.414133943807913e-09, statistically significant : True\n",
      "for validation recall : 0.5911320307512684, statistically significant : False\n",
      "for validation F1 : 3.4204992548060963e-07, statistically significant : True\n",
      "\n",
      "\n",
      "mean vs mobile net\n",
      "for validation accuracy : 9.108216215146437e-87, statistically significant : True\n",
      "for validation precision : 1.5796082666571625e-67, statistically significant : True\n",
      "for validation recall : 9.812296442250122e-25, statistically significant : True\n",
      "for validation F1 : 2.3217124924065738e-64, statistically significant : True\n",
      "\n",
      "\n",
      "one vs all\n",
      "for validation accuracy : 2.3364389601819195e-05, statistically significant : True\n",
      "for validation precision : 7.797161703050459e-06, statistically significant : True\n",
      "for validation recall : 0.009891807294584729, statistically significant : False\n",
      "for validation F1 : 0.014722388841188812, statistically significant : False\n",
      "\n",
      "\n",
      "one vs six\n",
      "for validation accuracy : 4.998551068561382e-12, statistically significant : True\n",
      "for validation precision : 1.970241660876049e-09, statistically significant : True\n",
      "for validation recall : 0.6565656358715914, statistically significant : False\n",
      "for validation F1 : 6.938870923445502e-06, statistically significant : True\n",
      "\n",
      "\n",
      "one vs mobile net\n",
      "for validation accuracy : 1.8157288468757928e-88, statistically significant : True\n",
      "for validation precision : 3.315085134437714e-67, statistically significant : True\n",
      "for validation recall : 2.0555883117005346e-24, statistically significant : True\n",
      "for validation F1 : 1.3195881820173389e-64, statistically significant : True\n",
      "\n",
      "\n",
      "all vs six\n",
      "for validation accuracy : 6.90104230681058e-05, statistically significant : True\n",
      "for validation precision : 0.006843791169350617, statistically significant : False\n",
      "for validation recall : 0.004258697174221717, statistically significant : True\n",
      "for validation F1 : 0.0011347005570090155, statistically significant : True\n",
      "\n",
      "\n",
      "all vs mobile net\n",
      "for validation accuracy : 1.2404756019850238e-98, statistically significant : True\n",
      "for validation precision : 6.904486373855561e-85, statistically significant : True\n",
      "for validation recall : 5.325705098317206e-47, statistically significant : True\n",
      "for validation F1 : 6.430008176662873e-86, statistically significant : True\n",
      "\n",
      "\n",
      "six vs mobile net\n",
      "for validation accuracy : 7.71673318373441e-91, statistically significant : True\n",
      "for validation precision : 9.799536709781846e-81, statistically significant : True\n",
      "for validation recall : 1.071979099435492e-36, statistically significant : True\n",
      "for validation F1 : 2.3802796871017646e-76, statistically significant : True\n",
      "\n",
      "\n"
     ]
    }
   ],
   "source": [
    "from scipy.stats import ttest_ind\n",
    "for i in range(5): \n",
    "    for j in range(i + 1, 5): \n",
    "        print(f\"{approaches[i]} vs {approaches[j]}\")\n",
    "        for k in range(4): # only 4 metrics \n",
    "            p_value = ttest_ind(approach_matrix[approaches[i]][:, 4 + k], approach_matrix[approaches[j]][:, 4 + k]).pvalue\n",
    "            print(f\"for {metrics[k]} : {p_value}, statistically significant : {p_value <= 0.005}\")\n",
    "        print(\"\\n\")"
   ]
  },
  {
   "cell_type": "code",
   "execution_count": null,
   "metadata": {},
   "outputs": [],
   "source": []
  },
  {
   "cell_type": "code",
   "execution_count": null,
   "metadata": {},
   "outputs": [],
   "source": []
  }
 ],
 "metadata": {
  "interpreter": {
   "hash": "aee8b7b246df8f9039afb4144a1f6fd8d2ca17a180786b69acc140d282b71a49"
  },
  "kernelspec": {
   "display_name": "Python 3.8.3 64-bit",
   "language": "python",
   "name": "python3"
  },
  "language_info": {
   "codemirror_mode": {
    "name": "ipython",
    "version": 3
   },
   "file_extension": ".py",
   "mimetype": "text/x-python",
   "name": "python",
   "nbconvert_exporter": "python",
   "pygments_lexer": "ipython3",
   "version": "3.9.7"
  },
  "orig_nbformat": 4
 },
 "nbformat": 4,
 "nbformat_minor": 2
}
