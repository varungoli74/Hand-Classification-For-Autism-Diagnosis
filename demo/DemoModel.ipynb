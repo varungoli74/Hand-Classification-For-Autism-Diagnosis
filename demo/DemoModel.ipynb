{
 "cells": [
  {
   "cell_type": "code",
   "execution_count": 1,
   "metadata": {},
   "outputs": [],
   "source": [
    "import tensorflow as tf # machine learning\n",
    "import cv2  # image processing\n",
    "import numpy as np # matrix multiplication\n",
    "import time # record query time"
   ]
  },
  {
   "cell_type": "code",
   "execution_count": 2,
   "metadata": {},
   "outputs": [
    {
     "name": "stderr",
     "output_type": "stream",
     "text": [
      "2022-06-27 20:08:06.081103: I tensorflow/core/platform/cpu_feature_guard.cc:193] This TensorFlow binary is optimized with oneAPI Deep Neural Network Library (oneDNN) to use the following CPU instructions in performance-critical operations:  AVX2 FMA\n",
      "To enable them in other operations, rebuild TensorFlow with the appropriate compiler flags.\n"
     ]
    }
   ],
   "source": [
    "IMAGE_SIZE = (224, 224, 3)\n",
    "model = tf.keras.models.load_model(\"MBNet\")"
   ]
  },
  {
   "cell_type": "code",
   "execution_count": 3,
   "metadata": {},
   "outputs": [],
   "source": [
    "def predict(model, video): \n",
    "    cap = cv2.VideoCapture(video)\n",
    "\n",
    "    data_matrix = []\n",
    "\n",
    "    # read in the frames \n",
    "    i = 0\n",
    "    while (cap.isOpened()): \n",
    "        ret, frame = cap.read()\n",
    "        if not ret: break \n",
    "\n",
    "        image = cv2.resize(frame, (IMAGE_SIZE[0], IMAGE_SIZE[1])) # resize \n",
    "        data_matrix.append(image)\n",
    "        i += 1\n",
    "\n",
    "        \n",
    "    cur_time = time.time()\n",
    "    prediction = model.predict(np.array([data_matrix]))\n",
    "    print(prediction)\n",
    "    text_pred = \"Hand Flapping\" if prediction >= 0.5 else \"No Hand Flapping\"\n",
    "    print(f\"Prediction:  {text_pred} with {max([1 - prediction, prediction])} confidence.\")\n",
    "    \n",
    "    cap.release()\n",
    "    return time.time() - cur_time"
   ]
  },
  {
   "cell_type": "code",
   "execution_count": 43,
   "metadata": {},
   "outputs": [
    {
     "name": "stdout",
     "output_type": "stream",
     "text": [
      "[[0.19268969]]\n",
      "Prediction:  No Hand Flapping with [[0.80731034]] confidence.\n"
     ]
    },
    {
     "data": {
      "text/plain": [
       "6.137075901031494"
      ]
     },
     "execution_count": 43,
     "metadata": {},
     "output_type": "execute_result"
    }
   ],
   "source": [
    "predict(model, \"videos/video1_control.mov\")"
   ]
  },
  {
   "cell_type": "code",
   "execution_count": 1,
   "metadata": {},
   "outputs": [
    {
     "ename": "NameError",
     "evalue": "name 'cv2' is not defined",
     "output_type": "error",
     "traceback": [
      "\u001b[0;31m---------------------------------------------------------------------------\u001b[0m",
      "\u001b[0;31mNameError\u001b[0m                                 Traceback (most recent call last)",
      "\u001b[1;32m/Users/anish/Documents/Machine Learning Env/ActivRecognition-Autism-Diagnosis/demo/DemoModel.ipynb Cell 1'\u001b[0m in \u001b[0;36m<cell line: 1>\u001b[0;34m()\u001b[0m\n\u001b[0;32m----> <a href='vscode-notebook-cell:/Users/anish/Documents/Machine%20Learning%20Env/ActivRecognition-Autism-Diagnosis/demo/DemoModel.ipynb#ch0000000?line=0'>1</a>\u001b[0m cap \u001b[39m=\u001b[39m cv2\u001b[39m.\u001b[39mVideoCapture()\n",
      "\u001b[0;31mNameError\u001b[0m: name 'cv2' is not defined"
     ]
    }
   ],
   "source": [
    "cap = cv2.VideoCapture()"
   ]
  },
  {
   "cell_type": "code",
   "execution_count": null,
   "metadata": {},
   "outputs": [],
   "source": []
  }
 ],
 "metadata": {
  "interpreter": {
   "hash": "aee8b7b246df8f9039afb4144a1f6fd8d2ca17a180786b69acc140d282b71a49"
  },
  "kernelspec": {
   "display_name": "Python 3 (ipykernel)",
   "language": "python",
   "name": "python3"
  },
  "language_info": {
   "codemirror_mode": {
    "name": "ipython",
    "version": 3
   },
   "file_extension": ".py",
   "mimetype": "text/x-python",
   "name": "python",
   "nbconvert_exporter": "python",
   "pygments_lexer": "ipython3",
   "version": "3.11.4"
  }
 },
 "nbformat": 4,
 "nbformat_minor": 4
}
